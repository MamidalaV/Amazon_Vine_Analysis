{
  "nbformat": 4,
  "nbformat_minor": 0,
  "metadata": {
    "colab": {
      "name": "Vine_Review_Analysis.ipynb",
      "provenance": [],
      "collapsed_sections": []
    },
    "kernelspec": {
      "name": "python3",
      "display_name": "Python 3"
    },
    "language_info": {
      "name": "python"
    }
  },
  "cells": [
    {
      "cell_type": "code",
      "metadata": {
        "colab": {
          "base_uri": "https://localhost:8080/"
        },
        "id": "ADCph4N2AMjN",
        "outputId": "d32ee2d2-47c6-43a3-b969-cee9bfdebd99"
      },
      "source": [
        "import os\n",
        "# Find the latest version of spark 2.0  from http://www-us.apache.org/dist/spark/ and enter as the spark version\n",
        "# For example:\n",
        "# spark_version = 'spark-3.0.0'\n",
        "spark_version = 'spark-3.1.2'\n",
        "os.environ['SPARK_VERSION']=spark_version\n",
        "\n",
        "# Install Spark and Java\n",
        "!apt-get update\n",
        "!apt-get install openjdk-11-jdk-headless -qq > /dev/null\n",
        "!wget -q http://www-us.apache.org/dist/spark/$SPARK_VERSION/$SPARK_VERSION-bin-hadoop2.7.tgz\n",
        "!tar xf $SPARK_VERSION-bin-hadoop2.7.tgz\n",
        "!pip install -q findspark\n",
        "\n",
        "# Set Environment Variables\n",
        "import os\n",
        "os.environ[\"JAVA_HOME\"] = \"/usr/lib/jvm/java-11-openjdk-amd64\"\n",
        "os.environ[\"SPARK_HOME\"] = f\"/content/{spark_version}-bin-hadoop2.7\"\n",
        "\n",
        "# Start a SparkSession\n",
        "import findspark\n",
        "findspark.init()"
      ],
      "execution_count": 1,
      "outputs": [
        {
          "output_type": "stream",
          "text": [
            "\r0% [Working]\r            \rHit:1 http://security.ubuntu.com/ubuntu bionic-security InRelease\n",
            "\r0% [Connecting to archive.ubuntu.com (91.189.88.142)] [Connected to cloud.r-pro\r0% [1 InRelease gpgv 88.7 kB] [Connecting to archive.ubuntu.com (91.189.88.142)\r                                                                               \rHit:2 https://cloud.r-project.org/bin/linux/ubuntu bionic-cran40/ InRelease\n",
            "Ign:3 https://developer.download.nvidia.com/compute/cuda/repos/ubuntu1804/x86_64  InRelease\n",
            "Hit:4 http://ppa.launchpad.net/c2d4u.team/c2d4u4.0+/ubuntu bionic InRelease\n",
            "Ign:5 https://developer.download.nvidia.com/compute/machine-learning/repos/ubuntu1804/x86_64  InRelease\n",
            "Hit:6 https://developer.download.nvidia.com/compute/cuda/repos/ubuntu1804/x86_64  Release\n",
            "Hit:7 https://developer.download.nvidia.com/compute/machine-learning/repos/ubuntu1804/x86_64  Release\n",
            "Hit:8 http://archive.ubuntu.com/ubuntu bionic InRelease\n",
            "Hit:9 http://archive.ubuntu.com/ubuntu bionic-updates InRelease\n",
            "Hit:10 http://ppa.launchpad.net/cran/libgit2/ubuntu bionic InRelease\n",
            "Hit:11 http://archive.ubuntu.com/ubuntu bionic-backports InRelease\n",
            "Hit:12 http://ppa.launchpad.net/deadsnakes/ppa/ubuntu bionic InRelease\n",
            "Hit:13 http://ppa.launchpad.net/graphics-drivers/ppa/ubuntu bionic InRelease\n",
            "Reading package lists... Done\n"
          ],
          "name": "stdout"
        }
      ]
    },
    {
      "cell_type": "code",
      "metadata": {
        "colab": {
          "base_uri": "https://localhost:8080/"
        },
        "id": "pGv0i-JEAcDQ",
        "outputId": "a37e33c6-7383-4dc6-95ac-234bd157c617"
      },
      "source": [
        "# Download the Postgres driver that will allow Spark to interact with Postgres.\n",
        "!wget https://jdbc.postgresql.org/download/postgresql-42.2.16.jar"
      ],
      "execution_count": 2,
      "outputs": [
        {
          "output_type": "stream",
          "text": [
            "--2021-06-19 21:02:03--  https://jdbc.postgresql.org/download/postgresql-42.2.16.jar\n",
            "Resolving jdbc.postgresql.org (jdbc.postgresql.org)... 72.32.157.228, 2001:4800:3e1:1::228\n",
            "Connecting to jdbc.postgresql.org (jdbc.postgresql.org)|72.32.157.228|:443... connected.\n",
            "HTTP request sent, awaiting response... 200 OK\n",
            "Length: 1002883 (979K) [application/java-archive]\n",
            "Saving to: ‘postgresql-42.2.16.jar.3’\n",
            "\n",
            "postgresql-42.2.16. 100%[===================>] 979.38K  6.17MB/s    in 0.2s    \n",
            "\n",
            "2021-06-19 21:02:03 (6.17 MB/s) - ‘postgresql-42.2.16.jar.3’ saved [1002883/1002883]\n",
            "\n"
          ],
          "name": "stdout"
        }
      ]
    },
    {
      "cell_type": "code",
      "metadata": {
        "id": "RkZMoLmzAji1"
      },
      "source": [
        "from pyspark.sql import SparkSession\n",
        "spark = SparkSession.builder.appName(\"BigData-Challenge\").config(\"spark.driver.extraClassPath\",\"/content/postgresql-42.2.16.jar\").getOrCreate()"
      ],
      "execution_count": 3,
      "outputs": []
    },
    {
      "cell_type": "code",
      "metadata": {
        "colab": {
          "base_uri": "https://localhost:8080/"
        },
        "id": "0w87DGlyAlMt",
        "outputId": "95382b1f-ca53-4c39-b812-463c77b4f4f2"
      },
      "source": [
        "from pyspark import SparkFiles\n",
        "url = \"https://s3.amazonaws.com/amazon-reviews-pds/tsv/amazon_reviews_us_Mobile_Electronics_v1_00.tsv.gz\"\n",
        "spark.sparkContext.addFile(url)\n",
        "df = spark.read.option(\"encoding\", \"UTF-8\").csv(SparkFiles.get(\"\"), sep=\"\\t\", header=True, inferSchema=True)\n",
        "df.show()"
      ],
      "execution_count": 4,
      "outputs": [
        {
          "output_type": "stream",
          "text": [
            "+-----------+-----------+--------------+----------+--------------+--------------------+------------------+-----------+-------------+-----------+----+-----------------+--------------------+--------------------+-----------+\n",
            "|marketplace|customer_id|     review_id|product_id|product_parent|       product_title|  product_category|star_rating|helpful_votes|total_votes|vine|verified_purchase|     review_headline|         review_body|review_date|\n",
            "+-----------+-----------+--------------+----------+--------------+--------------------+------------------+-----------+-------------+-----------+----+-----------------+--------------------+--------------------+-----------+\n",
            "|         US|   20422322| R8MEA6IGAHO0B|B00MC4CED8|     217304173|BlackVue DR600GW-PMP|Mobile_Electronics|          5|            0|          0|   N|                Y|         Very Happy!|As advertised. Ev...| 2015-08-31|\n",
            "|         US|   40835037|R31LOQ8JGLPRLK|B00OQMFG1Q|     137313254|GENSSI GSM / GPS ...|Mobile_Electronics|          5|            0|          1|   N|                Y|           five star|          it's great| 2015-08-31|\n",
            "|         US|   51469641|R2Y0MM9YE6OP3P|B00QERR5CY|      82850235|iXCC Multi pack L...|Mobile_Electronics|          5|            0|          0|   N|                Y|        great cables|These work great ...| 2015-08-31|\n",
            "|         US|    4332923| RRB9C05HDOD4O|B00QUFTPV4|     221169481|abcGoodefg® FBI C...|Mobile_Electronics|          4|            0|          0|   N|                Y|Work very well bu...|Work very well bu...| 2015-08-31|\n",
            "|         US|   44855305|R26I2RI1GFV8QG|B0067XVNTG|     563475445|Generic Car Dashb...|Mobile_Electronics|          2|            0|          0|   N|                Y|Cameras has batte...|Be careful with t...| 2015-08-31|\n",
            "|         US|    7846966| RY8DDL22YG4R5|B00KA6CCVY|     713636156|Aweek® Air Acoust...|Mobile_Electronics|          3|            0|          1|   N|                Y|It appears to be ...|It appears to be ...| 2015-08-31|\n",
            "|         US|   21299354|R2AT2426ZHFUHH|B00MJCDPM2|     754171872|Sentey LS-4460 B-...|Mobile_Electronics|          3|            0|          1|   N|                Y|Didn't love the f...|First one arrived...| 2015-08-31|\n",
            "|         US|   28902968|R3RRXU2R23NMQ9|B00ET5AWBY|     508373185|iPad Car Headrest...|Mobile_Electronics|          5|            0|          0|   N|                Y|          Five Stars|Worked great for ...| 2015-08-31|\n",
            "|         US|    2074438|R250PR8VJUZ62F|B00Z9K379C|     759387370|ANWING Waterproof...|Mobile_Electronics|          4|            0|          2|   N|                Y|          Four Stars|this is a very go...| 2015-08-31|\n",
            "|         US|   48701722| RBEMQ29WJBHYG|B00YO3UYXW|     913911909|Jensen MCR-100 Ca...|Mobile_Electronics|          5|          164|        168|   N|                Y|  I LOVE my recorder|I LOVE my recorde...| 2015-08-31|\n",
            "|         US|    2990247|R19VVIUT4BZCMT|B011W26BU2|     938399424|Bluetooth Speaker...|Mobile_Electronics|          5|            2|          2|   N|                Y|          Five Stars|Great sound great...| 2015-08-31|\n",
            "|         US|   52946117|R1DT8JJUQHUKUL|B00H8PI78C|     661515294|15Pcs DC 5V 85dB ...|Mobile_Electronics|          3|            0|          1|   N|                Y|More of a beeper ...|If what you want ...| 2015-08-31|\n",
            "|         US|   49359994| RLIL6S9OGM3YA|B00M49C6MK|      91176851|      Sentey Ls 4162|Mobile_Electronics|          5|            0|          0|   N|                Y|          Five Stars|             Love it| 2015-08-31|\n",
            "|         US|    4158732|R34EZZ68VYPHO0|B011Q291PK|     891142775|IcePACK 8 Can Ins...|Mobile_Electronics|          1|            1|          1|   N|                Y|            One Star|               Sucks| 2015-08-31|\n",
            "|         US|   18944032|R3TZNSOXS13SIG|B00W6OLUGQ|     577462547|DTK® AMI MDI MMI ...|Mobile_Electronics|          2|            1|          3|   N|                Y|           Two Stars|u need to plug in...| 2015-08-31|\n",
            "|         US|     279606|R12UBZT87UX3AP|B008MY1F8W|     680240984|INPA K+CAN K+DCAN...|Mobile_Electronics|          5|            2|          2|   N|                Y|          Five Stars|Worked with MHD F...| 2015-08-31|\n",
            "|         US|   10947966| R5KCRE927NYMU|B00KW3XNUE|     219920841|Magicfly Wireless...|Mobile_Electronics|          2|            0|          0|   N|                N|Battery Cover Poo...|Just arrived,  re...| 2015-08-31|\n",
            "|         US|   18387442| RT12RQFU0V2AX|B009NGR0AK|     254898339|Humminbird XNT 9 ...|Mobile_Electronics|          5|            1|          1|   N|                Y|        Works great.|I bought this uni...| 2015-08-31|\n",
            "|         US|   48950322|R2K0YQPV5W2SJ1|B011W26BU2|     938399424|Bluetooth Speaker...|Mobile_Electronics|          4|            2|          2|   N|                Y|A Lot of Sound In...|I am giving the s...| 2015-08-31|\n",
            "|         US|   48148197|R104MY31OKNGXH|B00PAP68WO|     366592530|Foxnovo 3.7V 380m...|Mobile_Electronics|          5|            0|          0|   N|                Y|          Five Stars|Met my applicatio...| 2015-08-31|\n",
            "+-----------+-----------+--------------+----------+--------------+--------------------+------------------+-----------+-------------+-----------+----+-----------------+--------------------+--------------------+-----------+\n",
            "only showing top 20 rows\n",
            "\n"
          ],
          "name": "stdout"
        }
      ]
    },
    {
      "cell_type": "code",
      "metadata": {
        "id": "7KlmXkNSAmua"
      },
      "source": [
        "from pyspark.sql.functions import to_date\n",
        "# Read in the Review dataset as a DataFrame"
      ],
      "execution_count": 5,
      "outputs": []
    },
    {
      "cell_type": "code",
      "metadata": {
        "colab": {
          "base_uri": "https://localhost:8080/"
        },
        "id": "3HUc6W48AqCF",
        "outputId": "65668416-9740-4b3c-f18d-952aa042a69f"
      },
      "source": [
        "# Create the vine_table. DataFrame\n",
        "vine_df = df.select([\"review_id\",\"star_rating\",\"helpful_votes\",\"total_votes\",\"vine\",\"verified_purchase\"])\n",
        "vine_df.show()"
      ],
      "execution_count": 6,
      "outputs": [
        {
          "output_type": "stream",
          "text": [
            "+--------------+-----------+-------------+-----------+----+-----------------+\n",
            "|     review_id|star_rating|helpful_votes|total_votes|vine|verified_purchase|\n",
            "+--------------+-----------+-------------+-----------+----+-----------------+\n",
            "| R8MEA6IGAHO0B|          5|            0|          0|   N|                Y|\n",
            "|R31LOQ8JGLPRLK|          5|            0|          1|   N|                Y|\n",
            "|R2Y0MM9YE6OP3P|          5|            0|          0|   N|                Y|\n",
            "| RRB9C05HDOD4O|          4|            0|          0|   N|                Y|\n",
            "|R26I2RI1GFV8QG|          2|            0|          0|   N|                Y|\n",
            "| RY8DDL22YG4R5|          3|            0|          1|   N|                Y|\n",
            "|R2AT2426ZHFUHH|          3|            0|          1|   N|                Y|\n",
            "|R3RRXU2R23NMQ9|          5|            0|          0|   N|                Y|\n",
            "|R250PR8VJUZ62F|          4|            0|          2|   N|                Y|\n",
            "| RBEMQ29WJBHYG|          5|          164|        168|   N|                Y|\n",
            "|R19VVIUT4BZCMT|          5|            2|          2|   N|                Y|\n",
            "|R1DT8JJUQHUKUL|          3|            0|          1|   N|                Y|\n",
            "| RLIL6S9OGM3YA|          5|            0|          0|   N|                Y|\n",
            "|R34EZZ68VYPHO0|          1|            1|          1|   N|                Y|\n",
            "|R3TZNSOXS13SIG|          2|            1|          3|   N|                Y|\n",
            "|R12UBZT87UX3AP|          5|            2|          2|   N|                Y|\n",
            "| R5KCRE927NYMU|          2|            0|          0|   N|                N|\n",
            "| RT12RQFU0V2AX|          5|            1|          1|   N|                Y|\n",
            "|R2K0YQPV5W2SJ1|          4|            2|          2|   N|                Y|\n",
            "|R104MY31OKNGXH|          5|            0|          0|   N|                Y|\n",
            "+--------------+-----------+-------------+-----------+----+-----------------+\n",
            "only showing top 20 rows\n",
            "\n"
          ],
          "name": "stdout"
        }
      ]
    },
    {
      "cell_type": "code",
      "metadata": {
        "colab": {
          "base_uri": "https://localhost:8080/"
        },
        "id": "LXXMLfunAv3W",
        "outputId": "33aece44-e123-4a55-e7a7-ef74afe84c36"
      },
      "source": [
        "#Filter vine_df to create another dataframe where there are 20 or more total votes\n",
        "from pyspark.sql.functions import concat, col, lit\n",
        "vine_filtered = vine_df.filter(\"total_votes>=20\").show()"
      ],
      "execution_count": 7,
      "outputs": [
        {
          "output_type": "stream",
          "text": [
            "+--------------+-----------+-------------+-----------+----+-----------------+\n",
            "|     review_id|star_rating|helpful_votes|total_votes|vine|verified_purchase|\n",
            "+--------------+-----------+-------------+-----------+----+-----------------+\n",
            "| RBEMQ29WJBHYG|          5|          164|        168|   N|                Y|\n",
            "|R2JK5Y8D5MXAGP|          1|            5|        121|   N|                Y|\n",
            "|R13W3EMIUV120L|          4|          288|        294|   N|                Y|\n",
            "|R30TJ8POYNVCRE|          5|           15|         21|   N|                N|\n",
            "|R1H5Y9Z2DHRNVO|          1|            4|         95|   N|                Y|\n",
            "|R1LK03P7BCJEJD|          1|           31|         35|   N|                Y|\n",
            "| RBXUICKGHL685|          1|           48|         52|   N|                N|\n",
            "|R2E16WLZKP78GO|          5|           19|         21|   N|                Y|\n",
            "|R1EN4PGQIFSENW|          5|           27|         28|   N|                Y|\n",
            "| RXZWQU66AHIYG|          5|           24|         25|   N|                Y|\n",
            "|R2IXCZCSUKH8FB|          3|           78|         82|   N|                Y|\n",
            "|R25RB38U9LL8OE|          5|           24|         29|   N|                Y|\n",
            "|R1Q0XK7VKU3EKX|          1|            7|        130|   N|                Y|\n",
            "| RSHPPH6BRXYRS|          2|           42|         48|   N|                N|\n",
            "|R39HYCYEWFZP3B|          5|           36|         36|   N|                N|\n",
            "|R2C68DIKTG0M7W|          5|           18|         20|   N|                Y|\n",
            "|R2I6O4S2CZK8WQ|          1|          175|        181|   N|                Y|\n",
            "|R1EPU8R4MVRIQ7|          4|           21|         22|   N|                Y|\n",
            "| RN55T65W485LS|          1|            5|        222|   N|                N|\n",
            "|R1AL1OVEHNX5JC|          5|           19|         22|   N|                Y|\n",
            "+--------------+-----------+-------------+-----------+----+-----------------+\n",
            "only showing top 20 rows\n",
            "\n"
          ],
          "name": "stdout"
        }
      ]
    },
    {
      "cell_type": "code",
      "metadata": {
        "id": "u7JAKyQlCDTv"
      },
      "source": [
        "#filter the data to create a DataFrame where the percentage of helpful_votes is equal to or greater than 50%. \n",
        "vine_per = vine_df.withColumn(\"voting_perc\", vine_df['helpful_votes'] / vine_df['total_votes'])\n",
        "vine_50 = vine_per.where(col('voting_perc') >= 0.5)"
      ],
      "execution_count": 8,
      "outputs": []
    },
    {
      "cell_type": "code",
      "metadata": {
        "colab": {
          "base_uri": "https://localhost:8080/"
        },
        "id": "KfeAX9rN8L8C",
        "outputId": "a9afb9b7-1ab8-4c2d-a9fa-f57074d80030"
      },
      "source": [
        "vine_50.show()"
      ],
      "execution_count": 9,
      "outputs": [
        {
          "output_type": "stream",
          "text": [
            "+--------------+-----------+-------------+-----------+----+-----------------+------------------+\n",
            "|     review_id|star_rating|helpful_votes|total_votes|vine|verified_purchase|       voting_perc|\n",
            "+--------------+-----------+-------------+-----------+----+-----------------+------------------+\n",
            "| RBEMQ29WJBHYG|          5|          164|        168|   N|                Y|0.9761904761904762|\n",
            "|R19VVIUT4BZCMT|          5|            2|          2|   N|                Y|               1.0|\n",
            "|R34EZZ68VYPHO0|          1|            1|          1|   N|                Y|               1.0|\n",
            "|R12UBZT87UX3AP|          5|            2|          2|   N|                Y|               1.0|\n",
            "| RT12RQFU0V2AX|          5|            1|          1|   N|                Y|               1.0|\n",
            "|R2K0YQPV5W2SJ1|          4|            2|          2|   N|                Y|               1.0|\n",
            "|R3IF1H9L7WSGQD|          5|            1|          1|   N|                N|               1.0|\n",
            "| R5I2YBT9J85FF|          5|            2|          2|   N|                Y|               1.0|\n",
            "|R2074W1A28UUU6|          5|            9|         11|   N|                N|0.8181818181818182|\n",
            "|R2RWA9DSTPVRCI|          5|            2|          2|   N|                Y|               1.0|\n",
            "|R18TG2USOSVOC3|          1|            1|          1|   N|                Y|               1.0|\n",
            "|R27GI77VF2P6WF|          3|            2|          3|   N|                Y|0.6666666666666666|\n",
            "| R802NI63NKL9V|          5|            2|          2|   N|                Y|               1.0|\n",
            "| R4OJIBI7DBHQY|          5|            1|          1|   N|                Y|               1.0|\n",
            "|R3FBUNWANUJRTU|          5|            2|          2|   N|                Y|               1.0|\n",
            "|R2SXHHN0P24XX2|          4|            2|          2|   N|                Y|               1.0|\n",
            "|R2H1V2O1SVWULZ|          4|            2|          2|   N|                Y|               1.0|\n",
            "|R3KWJ45TNIR8O5|          5|            1|          1|   N|                Y|               1.0|\n",
            "|R12LYV1UT0I45R|          4|            1|          1|   N|                Y|               1.0|\n",
            "| RNAFMG7E8AV98|          5|            1|          2|   N|                Y|               0.5|\n",
            "+--------------+-----------+-------------+-----------+----+-----------------+------------------+\n",
            "only showing top 20 rows\n",
            "\n"
          ],
          "name": "stdout"
        }
      ]
    },
    {
      "cell_type": "code",
      "metadata": {
        "id": "qzD4W-HuEDpU",
        "colab": {
          "base_uri": "https://localhost:8080/"
        },
        "outputId": "4d26219e-ae88-4a19-c79a-3496e8348b30"
      },
      "source": [
        "#The data is filtered to create a DataFrame or table where there is a Vine review.\n",
        "vine_paid = vine_50.where(col('vine') == 'Y')\n",
        "vine_paid.show()"
      ],
      "execution_count": 10,
      "outputs": [
        {
          "output_type": "stream",
          "text": [
            "+--------------+-----------+-------------+-----------+----+-----------------+------------------+\n",
            "|     review_id|star_rating|helpful_votes|total_votes|vine|verified_purchase|       voting_perc|\n",
            "+--------------+-----------+-------------+-----------+----+-----------------+------------------+\n",
            "|R323MJVCE76RHX|          5|            3|          6|   Y|                N|               0.5|\n",
            "|R3BOQTLUU3Y4L8|          4|           42|         55|   Y|                N|0.7636363636363637|\n",
            "| RWF03LXVXC22A|          3|          396|        445|   Y|                N|0.8898876404494382|\n",
            "|R2MUPC17C2FAA3|          4|           11|         14|   Y|                N|0.7857142857142857|\n",
            "| R19DZ4ZILR75G|          4|            5|          9|   Y|                N|0.5555555555555556|\n",
            "|R37RHDWFZYGHQS|          5|            6|         10|   Y|                N|               0.6|\n",
            "| REPU28WG1VZUE|          5|          242|        281|   Y|                N|0.8612099644128114|\n",
            "|R1D6REC9HPJVQY|          4|           31|         41|   Y|                N|0.7560975609756098|\n",
            "| RKOL13PZRCUYM|          4|            1|          2|   Y|                N|               0.5|\n",
            "|R34CDGCT45Q7PK|          3|            1|          2|   Y|                N|               0.5|\n",
            "| R9US6D46U1A00|          5|            8|         11|   Y|                N|0.7272727272727273|\n",
            "| RH7LF0WVHLWIK|          2|            4|          7|   Y|                N|0.5714285714285714|\n",
            "+--------------+-----------+-------------+-----------+----+-----------------+------------------+\n",
            "\n"
          ],
          "name": "stdout"
        }
      ]
    },
    {
      "cell_type": "code",
      "metadata": {
        "colab": {
          "base_uri": "https://localhost:8080/"
        },
        "id": "2g47l3ip4muz",
        "outputId": "c77fe4e1-5253-42a6-8b09-8b18a43efd20"
      },
      "source": [
        "#The data is filtered to create a DataFrame or table where there isn’t a Vine review.\n",
        "vine_unpaid = vine_50.where(col('vine') == 'N')\n",
        "vine_unpaid.show()"
      ],
      "execution_count": 11,
      "outputs": [
        {
          "output_type": "stream",
          "text": [
            "+--------------+-----------+-------------+-----------+----+-----------------+------------------+\n",
            "|     review_id|star_rating|helpful_votes|total_votes|vine|verified_purchase|       voting_perc|\n",
            "+--------------+-----------+-------------+-----------+----+-----------------+------------------+\n",
            "| RBEMQ29WJBHYG|          5|          164|        168|   N|                Y|0.9761904761904762|\n",
            "|R19VVIUT4BZCMT|          5|            2|          2|   N|                Y|               1.0|\n",
            "|R34EZZ68VYPHO0|          1|            1|          1|   N|                Y|               1.0|\n",
            "|R12UBZT87UX3AP|          5|            2|          2|   N|                Y|               1.0|\n",
            "| RT12RQFU0V2AX|          5|            1|          1|   N|                Y|               1.0|\n",
            "|R2K0YQPV5W2SJ1|          4|            2|          2|   N|                Y|               1.0|\n",
            "|R3IF1H9L7WSGQD|          5|            1|          1|   N|                N|               1.0|\n",
            "| R5I2YBT9J85FF|          5|            2|          2|   N|                Y|               1.0|\n",
            "|R2074W1A28UUU6|          5|            9|         11|   N|                N|0.8181818181818182|\n",
            "|R2RWA9DSTPVRCI|          5|            2|          2|   N|                Y|               1.0|\n",
            "|R18TG2USOSVOC3|          1|            1|          1|   N|                Y|               1.0|\n",
            "|R27GI77VF2P6WF|          3|            2|          3|   N|                Y|0.6666666666666666|\n",
            "| R802NI63NKL9V|          5|            2|          2|   N|                Y|               1.0|\n",
            "| R4OJIBI7DBHQY|          5|            1|          1|   N|                Y|               1.0|\n",
            "|R3FBUNWANUJRTU|          5|            2|          2|   N|                Y|               1.0|\n",
            "|R2SXHHN0P24XX2|          4|            2|          2|   N|                Y|               1.0|\n",
            "|R2H1V2O1SVWULZ|          4|            2|          2|   N|                Y|               1.0|\n",
            "|R3KWJ45TNIR8O5|          5|            1|          1|   N|                Y|               1.0|\n",
            "|R12LYV1UT0I45R|          4|            1|          1|   N|                Y|               1.0|\n",
            "| RNAFMG7E8AV98|          5|            1|          2|   N|                Y|               0.5|\n",
            "+--------------+-----------+-------------+-----------+----+-----------------+------------------+\n",
            "only showing top 20 rows\n",
            "\n"
          ],
          "name": "stdout"
        }
      ]
    },
    {
      "cell_type": "code",
      "metadata": {
        "id": "rPLlkVRO8UhL"
      },
      "source": [
        "#Total reviews\n",
        "paid_reviews = vine_paid.count()\n",
        "unpaid_reviews = vine_unpaid.count()\n",
        "\n",
        "#Total 5 star reviews\n",
        "paid_5star = vine_paid.where(col('star_rating')==5).count()\n",
        "unpaid_5star = vine_unpaid.where(col('star_rating')==5).count()\n",
        "\n",
        "#Percentage of 5 star reviews\n",
        "paid_5star_perc = (paid_5star / paid_reviews)*100\n",
        "unpaid_5star_perc = (unpaid_5star / unpaid_reviews)*100"
      ],
      "execution_count": 12,
      "outputs": []
    },
    {
      "cell_type": "code",
      "metadata": {
        "colab": {
          "base_uri": "https://localhost:8080/"
        },
        "id": "HHv0DSg3_3xQ",
        "outputId": "2b056644-fe6c-4015-fda4-b46f3f66b826"
      },
      "source": [
        "print('Total Paid reviews:', paid_reviews, '\\n'\n",
        "      'Total unpaid reviews:', unpaid_reviews, '\\n'\n",
        "      'Paid 5 star reviews:', paid_5star, '\\n'\n",
        "      'Unpaid 5 star reviews:', unpaid_5star, '\\n'\n",
        "      'Paid 5 star reviews percentage:', (paid_5star / paid_reviews)*100, '\\n'\n",
        "      'Unpaid 5 star reviews percentage:',  (unpaid_5star/unpaid_reviews)*100)"
      ],
      "execution_count": 13,
      "outputs": [
        {
          "output_type": "stream",
          "text": [
            "Total Paid reviews: 12 \n",
            "Total unpaid reviews: 30029 \n",
            "Paid 5 star reviews: 4 \n",
            "Unpaid 5 star reviews: 14511 \n",
            "Paid 5 star reviews percentage: 33.33333333333333 \n",
            "Unpaid 5 star reviews percentage: 48.32328748876086\n"
          ],
          "name": "stdout"
        }
      ]
    },
    {
      "cell_type": "code",
      "metadata": {
        "id": "BOmrWNJQ-ckf"
      },
      "source": [
        ""
      ],
      "execution_count": 13,
      "outputs": []
    }
  ]
}